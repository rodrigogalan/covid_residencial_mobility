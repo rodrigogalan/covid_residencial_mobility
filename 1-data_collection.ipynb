{
 "cells": [
  {
   "cell_type": "markdown",
   "id": "e9cefc65",
   "metadata": {},
   "source": [
    "## Paquetes"
   ]
  },
  {
   "cell_type": "code",
   "execution_count": 1,
   "id": "09dd39cf",
   "metadata": {},
   "outputs": [],
   "source": [
    "import pandas as pd\n",
    "import numpy as np\n",
    "import re\n",
    "import time"
   ]
  },
  {
   "cell_type": "code",
   "execution_count": 61,
   "id": "f5607bc3",
   "metadata": {},
   "outputs": [],
   "source": [
    "import requests as req\n",
    "from bs4 import BeautifulSoup as bs"
   ]
  },
  {
   "cell_type": "code",
   "execution_count": 3,
   "id": "b8d72290",
   "metadata": {},
   "outputs": [],
   "source": [
    "import sys\n",
    "from src.scraping_functions import *"
   ]
  },
  {
   "cell_type": "code",
   "execution_count": 4,
   "id": "1e65c29b",
   "metadata": {},
   "outputs": [],
   "source": [
    "from selenium import webdriver\n",
    "from selenium.webdriver.chrome.options import Options\n",
    "from selenium.webdriver.common.keys import Keys\n",
    "\n",
    "#driver configuration\n",
    "opciones=Options()\n",
    "\n",
    "opciones.add_experimental_option('excludeSwitches', ['enable-automation'])\n",
    "opciones.add_experimental_option('useAutomationExtension', False)\n",
    "opciones.headless=False    # si True, no aperece la ventana (headless=no visible)\n",
    "opciones.add_argument('--start-maximized')         # comienza maximizado\n",
    "#opciones.add_argument('user-data-dir=selenium')    # mantiene las cookies\n",
    "#opciones.add_extension('driver_folder/adblock.crx')       # adblocker\n",
    "opciones.add_argument('--incognito')\n",
    "opciones.add_experimental_option(\"detach\", True)\n",
    "path = \"/mnt/d/Google Drive/Iron hack/Instalaciones/chromedriver.exe\""
   ]
  },
  {
   "cell_type": "markdown",
   "id": "7a02c907",
   "metadata": {},
   "source": [
    "## Importar  y limpiar csv"
   ]
  },
  {
   "cell_type": "code",
   "execution_count": 79,
   "id": "5dc33fc8",
   "metadata": {},
   "outputs": [],
   "source": [
    "data = pd.read_csv(\"data/residential-stay-in-covid19.csv\",encoding = \"ISO-8859-1\")"
   ]
  },
  {
   "cell_type": "code",
   "execution_count": 80,
   "id": "6057a4e8",
   "metadata": {},
   "outputs": [
    {
     "data": {
      "text/plain": [
       "(91933, 3)"
      ]
     },
     "execution_count": 80,
     "metadata": {},
     "output_type": "execute_result"
    }
   ],
   "source": [
    "data.shape"
   ]
  },
  {
   "cell_type": "code",
   "execution_count": 81,
   "id": "27c0f5c0",
   "metadata": {},
   "outputs": [
    {
     "data": {
      "text/html": [
       "<div>\n",
       "<style scoped>\n",
       "    .dataframe tbody tr th:only-of-type {\n",
       "        vertical-align: middle;\n",
       "    }\n",
       "\n",
       "    .dataframe tbody tr th {\n",
       "        vertical-align: top;\n",
       "    }\n",
       "\n",
       "    .dataframe thead th {\n",
       "        text-align: right;\n",
       "    }\n",
       "</style>\n",
       "<table border=\"1\" class=\"dataframe\">\n",
       "  <thead>\n",
       "    <tr style=\"text-align: right;\">\n",
       "      <th></th>\n",
       "      <th>Entity</th>\n",
       "      <th>Day</th>\n",
       "      <th>Increase in Residential Stay</th>\n",
       "    </tr>\n",
       "  </thead>\n",
       "  <tbody>\n",
       "    <tr>\n",
       "      <th>79514</th>\n",
       "      <td>Switzerland</td>\n",
       "      <td>25-04-2021</td>\n",
       "      <td>6.429</td>\n",
       "    </tr>\n",
       "    <tr>\n",
       "      <th>29098</th>\n",
       "      <td>Gabon</td>\n",
       "      <td>26-10-2021</td>\n",
       "      <td>-13.286</td>\n",
       "    </tr>\n",
       "    <tr>\n",
       "      <th>32209</th>\n",
       "      <td>Guatemala</td>\n",
       "      <td>07-09-2020</td>\n",
       "      <td>16.000</td>\n",
       "    </tr>\n",
       "    <tr>\n",
       "      <th>84917</th>\n",
       "      <td>Uganda</td>\n",
       "      <td>20-06-2020</td>\n",
       "      <td>15.857</td>\n",
       "    </tr>\n",
       "    <tr>\n",
       "      <th>19778</th>\n",
       "      <td>Costa Rica</td>\n",
       "      <td>18-09-2021</td>\n",
       "      <td>4.714</td>\n",
       "    </tr>\n",
       "  </tbody>\n",
       "</table>\n",
       "</div>"
      ],
      "text/plain": [
       "            Entity         Day  Increase in Residential Stay\n",
       "79514  Switzerland  25-04-2021                         6.429\n",
       "29098        Gabon  26-10-2021                       -13.286\n",
       "32209    Guatemala  07-09-2020                        16.000\n",
       "84917       Uganda  20-06-2020                        15.857\n",
       "19778   Costa Rica  18-09-2021                         4.714"
      ]
     },
     "execution_count": 81,
     "metadata": {},
     "output_type": "execute_result"
    }
   ],
   "source": [
    "data.sample(5)"
   ]
  },
  {
   "cell_type": "code",
   "execution_count": 82,
   "id": "f928b06c",
   "metadata": {},
   "outputs": [
    {
     "data": {
      "text/plain": [
       "Entity                          0\n",
       "Day                             0\n",
       "Increase in Residential Stay    0\n",
       "dtype: int64"
      ]
     },
     "execution_count": 82,
     "metadata": {},
     "output_type": "execute_result"
    }
   ],
   "source": [
    "data.isna().sum()"
   ]
  },
  {
   "cell_type": "code",
   "execution_count": 83,
   "id": "f1b7de8e",
   "metadata": {},
   "outputs": [
    {
     "name": "stdout",
     "output_type": "stream",
     "text": [
      "<class 'pandas.core.frame.DataFrame'>\n",
      "RangeIndex: 91933 entries, 0 to 91932\n",
      "Data columns (total 3 columns):\n",
      " #   Column                        Non-Null Count  Dtype  \n",
      "---  ------                        --------------  -----  \n",
      " 0   Entity                        91933 non-null  object \n",
      " 1   Day                           91933 non-null  object \n",
      " 2   Increase in Residential Stay  91933 non-null  float64\n",
      "dtypes: float64(1), object(2)\n",
      "memory usage: 2.1+ MB\n"
     ]
    }
   ],
   "source": [
    "data.info()"
   ]
  },
  {
   "cell_type": "code",
   "execution_count": 84,
   "id": "bccea6ea",
   "metadata": {},
   "outputs": [],
   "source": [
    "nuevas_columnas = {\"Entity\": \"country\", \"Day\":\"date\"}\n",
    "data.rename(columns=nuevas_columnas, inplace=True)"
   ]
  },
  {
   "cell_type": "code",
   "execution_count": 85,
   "id": "bb5cfaf4",
   "metadata": {},
   "outputs": [],
   "source": [
    "data[\"date\"]=pd.to_datetime(data[\"date\"],dayfirst=True)"
   ]
  },
  {
   "cell_type": "code",
   "execution_count": 86,
   "id": "a9a100c5",
   "metadata": {},
   "outputs": [
    {
     "name": "stdout",
     "output_type": "stream",
     "text": [
      "<class 'pandas.core.frame.DataFrame'>\n",
      "RangeIndex: 91933 entries, 0 to 91932\n",
      "Data columns (total 3 columns):\n",
      " #   Column                        Non-Null Count  Dtype         \n",
      "---  ------                        --------------  -----         \n",
      " 0   country                       91933 non-null  object        \n",
      " 1   date                          91933 non-null  datetime64[ns]\n",
      " 2   Increase in Residential Stay  91933 non-null  float64       \n",
      "dtypes: datetime64[ns](1), float64(1), object(1)\n",
      "memory usage: 2.1+ MB\n"
     ]
    }
   ],
   "source": [
    "data.info()"
   ]
  },
  {
   "cell_type": "code",
   "execution_count": 87,
   "id": "9d15bed8",
   "metadata": {},
   "outputs": [],
   "source": [
    "eeuu=data[data.country==\"United States\"]"
   ]
  },
  {
   "cell_type": "code",
   "execution_count": 88,
   "id": "dd868a6c",
   "metadata": {},
   "outputs": [
    {
     "data": {
      "text/plain": [
       "Timestamp('2020-02-17 00:00:00')"
      ]
     },
     "execution_count": 88,
     "metadata": {},
     "output_type": "execute_result"
    }
   ],
   "source": [
    "eeuu.date.min()"
   ]
  },
  {
   "cell_type": "code",
   "execution_count": 89,
   "id": "c5e7c624",
   "metadata": {
    "scrolled": true
   },
   "outputs": [
    {
     "name": "stderr",
     "output_type": "stream",
     "text": [
      "/tmp/ipykernel_2114/2038731044.py:1: SettingWithCopyWarning: \n",
      "A value is trying to be set on a copy of a slice from a DataFrame\n",
      "\n",
      "See the caveats in the documentation: https://pandas.pydata.org/pandas-docs/stable/user_guide/indexing.html#returning-a-view-versus-a-copy\n",
      "  eeuu.drop(columns = [\"country\"],axis=1,inplace= True)\n"
     ]
    }
   ],
   "source": [
    "eeuu.drop(columns = [\"country\"],axis=1,inplace= True)"
   ]
  },
  {
   "cell_type": "code",
   "execution_count": 90,
   "id": "37efec66",
   "metadata": {
    "scrolled": true
   },
   "outputs": [
    {
     "data": {
      "text/html": [
       "<div>\n",
       "<style scoped>\n",
       "    .dataframe tbody tr th:only-of-type {\n",
       "        vertical-align: middle;\n",
       "    }\n",
       "\n",
       "    .dataframe tbody tr th {\n",
       "        vertical-align: top;\n",
       "    }\n",
       "\n",
       "    .dataframe thead th {\n",
       "        text-align: right;\n",
       "    }\n",
       "</style>\n",
       "<table border=\"1\" class=\"dataframe\">\n",
       "  <thead>\n",
       "    <tr style=\"text-align: right;\">\n",
       "      <th></th>\n",
       "      <th>date</th>\n",
       "      <th>Increase in Residential Stay</th>\n",
       "    </tr>\n",
       "  </thead>\n",
       "  <tbody>\n",
       "    <tr>\n",
       "      <th>86935</th>\n",
       "      <td>2020-02-17</td>\n",
       "      <td>1.000</td>\n",
       "    </tr>\n",
       "    <tr>\n",
       "      <th>86936</th>\n",
       "      <td>2020-02-18</td>\n",
       "      <td>1.000</td>\n",
       "    </tr>\n",
       "    <tr>\n",
       "      <th>86937</th>\n",
       "      <td>2020-02-19</td>\n",
       "      <td>0.800</td>\n",
       "    </tr>\n",
       "    <tr>\n",
       "      <th>86938</th>\n",
       "      <td>2020-02-20</td>\n",
       "      <td>0.833</td>\n",
       "    </tr>\n",
       "    <tr>\n",
       "      <th>86939</th>\n",
       "      <td>2020-02-21</td>\n",
       "      <td>0.714</td>\n",
       "    </tr>\n",
       "  </tbody>\n",
       "</table>\n",
       "</div>"
      ],
      "text/plain": [
       "            date  Increase in Residential Stay\n",
       "86935 2020-02-17                         1.000\n",
       "86936 2020-02-18                         1.000\n",
       "86937 2020-02-19                         0.800\n",
       "86938 2020-02-20                         0.833\n",
       "86939 2020-02-21                         0.714"
      ]
     },
     "execution_count": 90,
     "metadata": {},
     "output_type": "execute_result"
    }
   ],
   "source": [
    "eeuu.head(5)"
   ]
  },
  {
   "cell_type": "markdown",
   "id": "8465b469",
   "metadata": {},
   "source": [
    "## Scrapeo"
   ]
  },
  {
   "cell_type": "code",
   "execution_count": 94,
   "id": "8c74ad6b",
   "metadata": {},
   "outputs": [],
   "source": [
    "dict_tablas={}\n",
    "dict_df={}\n",
    "for e in [\"NFLX\",\"DIS\",\"AMC\"]:\n",
    "    dict_tablas[e] = yahoo_finance(e, 771, 3, 1, \"history\")    \n",
    "    dict_df[e]=pd.DataFrame([i.split(\" \") for i in dict_tablas[e].split(\"\\n\")]\n",
    "                            ,columns=[\"month\",\"day\",\"year\", f\"open_{e}\", f\"high_{e}\", f\"low_{e}\", f\"close_{e}\", f\"adj_close_{e}\", f\"volume_{e}\"])"
   ]
  },
  {
   "cell_type": "code",
   "execution_count": 95,
   "id": "81245683",
   "metadata": {},
   "outputs": [],
   "source": [
    "for e in list(dict_df.keys()):\n",
    "    dict_df[e]['date'] = dict_df[e][\"year\"]+\" \"+dict_df[e][\"month\"]+\" \"+dict_df[e][\"day\"]\n",
    "    dict_df[e]['date'] = dict_df[e]['date'].apply(lambda x : x.rstrip(\",\"))\n",
    "    dict_df[e]['date'] = pd.to_datetime(dict_df[e]['date'], format='%Y %b %d')\n",
    "    dict_df[e].drop(columns = [\"year\",\"month\",\"day\",f\"open_{e}\", f\"high_{e}\", f\"low_{e}\", f\"adj_close_{e}\", f\"volume_{e}\" ]\n",
    "                    ,axis=1,inplace= True)\n",
    "    dict_df[e] = dict_df[e].iloc[:,[1,0]]\n"
   ]
  },
  {
   "cell_type": "code",
   "execution_count": 96,
   "id": "6646975d",
   "metadata": {},
   "outputs": [
    {
     "data": {
      "text/html": [
       "<div>\n",
       "<style scoped>\n",
       "    .dataframe tbody tr th:only-of-type {\n",
       "        vertical-align: middle;\n",
       "    }\n",
       "\n",
       "    .dataframe tbody tr th {\n",
       "        vertical-align: top;\n",
       "    }\n",
       "\n",
       "    .dataframe thead th {\n",
       "        text-align: right;\n",
       "    }\n",
       "</style>\n",
       "<table border=\"1\" class=\"dataframe\">\n",
       "  <thead>\n",
       "    <tr style=\"text-align: right;\">\n",
       "      <th></th>\n",
       "      <th>date</th>\n",
       "      <th>close_NFLX</th>\n",
       "    </tr>\n",
       "  </thead>\n",
       "  <tbody>\n",
       "    <tr>\n",
       "      <th>145</th>\n",
       "      <td>2021-07-12</td>\n",
       "      <td>537.31</td>\n",
       "    </tr>\n",
       "    <tr>\n",
       "      <th>492</th>\n",
       "      <td>2020-02-25</td>\n",
       "      <td>360.09</td>\n",
       "    </tr>\n",
       "    <tr>\n",
       "      <th>461</th>\n",
       "      <td>2020-04-08</td>\n",
       "      <td>371.12</td>\n",
       "    </tr>\n",
       "    <tr>\n",
       "      <th>261</th>\n",
       "      <td>2021-01-25</td>\n",
       "      <td>556.78</td>\n",
       "    </tr>\n",
       "    <tr>\n",
       "      <th>120</th>\n",
       "      <td>2021-08-16</td>\n",
       "      <td>517.92</td>\n",
       "    </tr>\n",
       "  </tbody>\n",
       "</table>\n",
       "</div>"
      ],
      "text/plain": [
       "          date close_NFLX\n",
       "145 2021-07-12     537.31\n",
       "492 2020-02-25     360.09\n",
       "461 2020-04-08     371.12\n",
       "261 2021-01-25     556.78\n",
       "120 2021-08-16     517.92"
      ]
     },
     "execution_count": 96,
     "metadata": {},
     "output_type": "execute_result"
    }
   ],
   "source": [
    "dict_df[\"NFLX\"].sample(5)"
   ]
  },
  {
   "cell_type": "code",
   "execution_count": 97,
   "id": "68a74e48",
   "metadata": {},
   "outputs": [],
   "source": [
    "tabla = eeuu.merge(dict_df[\"NFLX\"], left_on='date', right_on='date').merge(dict_df[\"DIS\"], left_on='date', right_on='date').merge(dict_df[\"AMC\"], left_on='date', right_on='date')"
   ]
  },
  {
   "cell_type": "code",
   "execution_count": 100,
   "id": "d4eaa5ba",
   "metadata": {},
   "outputs": [],
   "source": [
    "tabla.to_csv(\"data/eeuu.csv\",index=False)"
   ]
  },
  {
   "cell_type": "code",
   "execution_count": 101,
   "id": "dabc492d",
   "metadata": {},
   "outputs": [
    {
     "data": {
      "text/html": [
       "<div>\n",
       "<style scoped>\n",
       "    .dataframe tbody tr th:only-of-type {\n",
       "        vertical-align: middle;\n",
       "    }\n",
       "\n",
       "    .dataframe tbody tr th {\n",
       "        vertical-align: top;\n",
       "    }\n",
       "\n",
       "    .dataframe thead th {\n",
       "        text-align: right;\n",
       "    }\n",
       "</style>\n",
       "<table border=\"1\" class=\"dataframe\">\n",
       "  <thead>\n",
       "    <tr style=\"text-align: right;\">\n",
       "      <th></th>\n",
       "      <th>date</th>\n",
       "      <th>Increase in Residential Stay</th>\n",
       "      <th>close_NFLX</th>\n",
       "      <th>close_DIS</th>\n",
       "      <th>close_AMC</th>\n",
       "    </tr>\n",
       "  </thead>\n",
       "  <tbody>\n",
       "    <tr>\n",
       "      <th>143</th>\n",
       "      <td>2020-09-09</td>\n",
       "      <td>7.571</td>\n",
       "      <td>500.19</td>\n",
       "      <td>133.36</td>\n",
       "      <td>6.26</td>\n",
       "    </tr>\n",
       "    <tr>\n",
       "      <th>57</th>\n",
       "      <td>2020-05-07</td>\n",
       "      <td>14.714</td>\n",
       "      <td>436.53</td>\n",
       "      <td>105.57</td>\n",
       "      <td>3.99</td>\n",
       "    </tr>\n",
       "    <tr>\n",
       "      <th>34</th>\n",
       "      <td>2020-04-03</td>\n",
       "      <td>18.429</td>\n",
       "      <td>361.76</td>\n",
       "      <td>93.88</td>\n",
       "      <td>2.27</td>\n",
       "    </tr>\n",
       "    <tr>\n",
       "      <th>286</th>\n",
       "      <td>2021-04-06</td>\n",
       "      <td>6.286</td>\n",
       "      <td>544.53</td>\n",
       "      <td>189.73</td>\n",
       "      <td>10.20</td>\n",
       "    </tr>\n",
       "    <tr>\n",
       "      <th>17</th>\n",
       "      <td>2020-03-11</td>\n",
       "      <td>-0.429</td>\n",
       "      <td>349.92</td>\n",
       "      <td>105.51</td>\n",
       "      <td>3.64</td>\n",
       "    </tr>\n",
       "  </tbody>\n",
       "</table>\n",
       "</div>"
      ],
      "text/plain": [
       "          date  Increase in Residential Stay close_NFLX close_DIS close_AMC\n",
       "143 2020-09-09                         7.571     500.19    133.36      6.26\n",
       "57  2020-05-07                        14.714     436.53    105.57      3.99\n",
       "34  2020-04-03                        18.429     361.76     93.88      2.27\n",
       "286 2021-04-06                         6.286     544.53    189.73     10.20\n",
       "17  2020-03-11                        -0.429     349.92    105.51      3.64"
      ]
     },
     "execution_count": 101,
     "metadata": {},
     "output_type": "execute_result"
    }
   ],
   "source": [
    "tabla.sample(5)"
   ]
  },
  {
   "cell_type": "code",
   "execution_count": null,
   "id": "66a4d9e0",
   "metadata": {},
   "outputs": [],
   "source": []
  }
 ],
 "metadata": {
  "kernelspec": {
   "display_name": "ironhack",
   "language": "python",
   "name": "ironhack"
  },
  "language_info": {
   "codemirror_mode": {
    "name": "ipython",
    "version": 3
   },
   "file_extension": ".py",
   "mimetype": "text/x-python",
   "name": "python",
   "nbconvert_exporter": "python",
   "pygments_lexer": "ipython3",
   "version": "3.8.10"
  }
 },
 "nbformat": 4,
 "nbformat_minor": 5
}
