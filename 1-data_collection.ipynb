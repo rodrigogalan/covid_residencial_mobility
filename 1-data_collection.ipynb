{
 "cells": [
  {
   "cell_type": "markdown",
   "id": "03850870",
   "metadata": {},
   "source": [
    "## Paquetes"
   ]
  },
  {
   "cell_type": "code",
   "execution_count": 1,
   "id": "09dd39cf",
   "metadata": {},
   "outputs": [
    {
     "name": "stderr",
     "output_type": "stream",
     "text": [
      "/usr/lib/python3/dist-packages/requests/__init__.py:89: RequestsDependencyWarning: urllib3 (1.26.8) or chardet (3.0.4) doesn't match a supported version!\n",
      "  warnings.warn(\"urllib3 ({}) or chardet ({}) doesn't match a supported \"\n"
     ]
    }
   ],
   "source": [
    "import pandas as pd\n",
    "import numpy as np\n",
    "import re\n",
    "import requests as req\n",
    "from datetime import date"
   ]
  },
  {
   "cell_type": "code",
   "execution_count": 2,
   "id": "b8d72290",
   "metadata": {},
   "outputs": [
    {
     "name": "stderr",
     "output_type": "stream",
     "text": [
      "/usr/lib/python3/dist-packages/requests/__init__.py:89: RequestsDependencyWarning: urllib3 (1.26.8) or chardet (3.0.4) doesn't match a supported version!\n",
      "  warnings.warn(\"urllib3 ({}) or chardet ({}) doesn't match a supported \"\n"
     ]
    }
   ],
   "source": [
    "import sys\n",
    "from src.scraping_functions import *"
   ]
  },
  {
   "cell_type": "code",
   "execution_count": 3,
   "id": "1e65c29b",
   "metadata": {},
   "outputs": [],
   "source": [
    "from selenium import webdriver\n",
    "from selenium.webdriver.chrome.options import Options\n",
    "\n",
    "#driver configuration\n",
    "opciones=Options()\n",
    "\n",
    "opciones.add_experimental_option('excludeSwitches', ['enable-automation'])\n",
    "opciones.add_experimental_option('useAutomationExtension', False)\n",
    "opciones.headless=False    # si True, no aperece la ventana (headless=no visible)\n",
    "opciones.add_argument('--start-maximized')         # comienza maximizado\n",
    "#opciones.add_argument('user-data-dir=selenium')    # mantiene las cookies\n",
    "#opciones.add_extension('driver_folder/adblock.crx')       # adblocker\n",
    "opciones.add_argument('--incognito')\n",
    "opciones.add_experimental_option(\"detach\", True)\n",
    "path = \"/mnt/d/Google Drive/Iron hack/Instalaciones/chromedriver.exe\""
   ]
  },
  {
   "cell_type": "markdown",
   "id": "88d277da",
   "metadata": {},
   "source": [
    "## Importar  y limpiar csv"
   ]
  },
  {
   "cell_type": "code",
   "execution_count": 4,
   "id": "5dc33fc8",
   "metadata": {},
   "outputs": [],
   "source": [
    "data = pd.read_csv(\"data/residential-stay-in-covid19.csv\",encoding = \"ISO-8859-1\")"
   ]
  },
  {
   "cell_type": "code",
   "execution_count": 5,
   "id": "6057a4e8",
   "metadata": {},
   "outputs": [
    {
     "data": {
      "text/plain": [
       "(91933, 3)"
      ]
     },
     "execution_count": 5,
     "metadata": {},
     "output_type": "execute_result"
    }
   ],
   "source": [
    "data.shape"
   ]
  },
  {
   "cell_type": "code",
   "execution_count": 6,
   "id": "27c0f5c0",
   "metadata": {},
   "outputs": [
    {
     "data": {
      "text/html": [
       "<div>\n",
       "<style scoped>\n",
       "    .dataframe tbody tr th:only-of-type {\n",
       "        vertical-align: middle;\n",
       "    }\n",
       "\n",
       "    .dataframe tbody tr th {\n",
       "        vertical-align: top;\n",
       "    }\n",
       "\n",
       "    .dataframe thead th {\n",
       "        text-align: right;\n",
       "    }\n",
       "</style>\n",
       "<table border=\"1\" class=\"dataframe\">\n",
       "  <thead>\n",
       "    <tr style=\"text-align: right;\">\n",
       "      <th></th>\n",
       "      <th>Entity</th>\n",
       "      <th>Day</th>\n",
       "      <th>Increase in Residential Stay</th>\n",
       "    </tr>\n",
       "  </thead>\n",
       "  <tbody>\n",
       "    <tr>\n",
       "      <th>28025</th>\n",
       "      <td>France</td>\n",
       "      <td>01-11-2020</td>\n",
       "      <td>11.000</td>\n",
       "    </tr>\n",
       "    <tr>\n",
       "      <th>76501</th>\n",
       "      <td>South Korea</td>\n",
       "      <td>19-11-2020</td>\n",
       "      <td>0.714</td>\n",
       "    </tr>\n",
       "    <tr>\n",
       "      <th>76774</th>\n",
       "      <td>South Korea</td>\n",
       "      <td>19-08-2021</td>\n",
       "      <td>5.857</td>\n",
       "    </tr>\n",
       "    <tr>\n",
       "      <th>70189</th>\n",
       "      <td>Romania</td>\n",
       "      <td>27-01-2021</td>\n",
       "      <td>5.857</td>\n",
       "    </tr>\n",
       "    <tr>\n",
       "      <th>86536</th>\n",
       "      <td>United Kingdom</td>\n",
       "      <td>28-12-2020</td>\n",
       "      <td>19.000</td>\n",
       "    </tr>\n",
       "  </tbody>\n",
       "</table>\n",
       "</div>"
      ],
      "text/plain": [
       "               Entity         Day  Increase in Residential Stay\n",
       "28025          France  01-11-2020                        11.000\n",
       "76501     South Korea  19-11-2020                         0.714\n",
       "76774     South Korea  19-08-2021                         5.857\n",
       "70189         Romania  27-01-2021                         5.857\n",
       "86536  United Kingdom  28-12-2020                        19.000"
      ]
     },
     "execution_count": 6,
     "metadata": {},
     "output_type": "execute_result"
    }
   ],
   "source": [
    "data.sample(5)"
   ]
  },
  {
   "cell_type": "code",
   "execution_count": 7,
   "id": "f928b06c",
   "metadata": {},
   "outputs": [
    {
     "data": {
      "text/plain": [
       "Entity                          0\n",
       "Day                             0\n",
       "Increase in Residential Stay    0\n",
       "dtype: int64"
      ]
     },
     "execution_count": 7,
     "metadata": {},
     "output_type": "execute_result"
    }
   ],
   "source": [
    "data.isna().sum()"
   ]
  },
  {
   "cell_type": "code",
   "execution_count": 8,
   "id": "f1b7de8e",
   "metadata": {},
   "outputs": [
    {
     "name": "stdout",
     "output_type": "stream",
     "text": [
      "<class 'pandas.core.frame.DataFrame'>\n",
      "RangeIndex: 91933 entries, 0 to 91932\n",
      "Data columns (total 3 columns):\n",
      " #   Column                        Non-Null Count  Dtype  \n",
      "---  ------                        --------------  -----  \n",
      " 0   Entity                        91933 non-null  object \n",
      " 1   Day                           91933 non-null  object \n",
      " 2   Increase in Residential Stay  91933 non-null  float64\n",
      "dtypes: float64(1), object(2)\n",
      "memory usage: 2.1+ MB\n"
     ]
    }
   ],
   "source": [
    "data.info()"
   ]
  },
  {
   "cell_type": "code",
   "execution_count": 9,
   "id": "bccea6ea",
   "metadata": {},
   "outputs": [],
   "source": [
    "nuevas_columnas = {\"Entity\": \"country\", \"Day\":\"date\"}\n",
    "data.rename(columns=nuevas_columnas, inplace=True)"
   ]
  },
  {
   "cell_type": "code",
   "execution_count": 10,
   "id": "bb5cfaf4",
   "metadata": {},
   "outputs": [],
   "source": [
    "data[\"date\"]=pd.to_datetime(data[\"date\"],dayfirst=True)"
   ]
  },
  {
   "cell_type": "code",
   "execution_count": 11,
   "id": "a9a100c5",
   "metadata": {},
   "outputs": [
    {
     "name": "stdout",
     "output_type": "stream",
     "text": [
      "<class 'pandas.core.frame.DataFrame'>\n",
      "RangeIndex: 91933 entries, 0 to 91932\n",
      "Data columns (total 3 columns):\n",
      " #   Column                        Non-Null Count  Dtype         \n",
      "---  ------                        --------------  -----         \n",
      " 0   country                       91933 non-null  object        \n",
      " 1   date                          91933 non-null  datetime64[ns]\n",
      " 2   Increase in Residential Stay  91933 non-null  float64       \n",
      "dtypes: datetime64[ns](1), float64(1), object(1)\n",
      "memory usage: 2.1+ MB\n"
     ]
    }
   ],
   "source": [
    "data.info()"
   ]
  },
  {
   "cell_type": "code",
   "execution_count": 12,
   "id": "9d15bed8",
   "metadata": {},
   "outputs": [],
   "source": [
    "eeuu=data[data.country==\"United States\"]"
   ]
  },
  {
   "cell_type": "code",
   "execution_count": 13,
   "id": "dd868a6c",
   "metadata": {},
   "outputs": [
    {
     "data": {
      "text/plain": [
       "Timestamp('2020-02-17 00:00:00')"
      ]
     },
     "execution_count": 13,
     "metadata": {},
     "output_type": "execute_result"
    }
   ],
   "source": [
    "eeuu.date.min()"
   ]
  },
  {
   "cell_type": "code",
   "execution_count": 14,
   "id": "c62e9340",
   "metadata": {
    "scrolled": true
   },
   "outputs": [
    {
     "name": "stderr",
     "output_type": "stream",
     "text": [
      "/tmp/ipykernel_2441/2038731044.py:1: SettingWithCopyWarning: \n",
      "A value is trying to be set on a copy of a slice from a DataFrame\n",
      "\n",
      "See the caveats in the documentation: https://pandas.pydata.org/pandas-docs/stable/user_guide/indexing.html#returning-a-view-versus-a-copy\n",
      "  eeuu.drop(columns = [\"country\"],axis=1,inplace= True)\n"
     ]
    }
   ],
   "source": [
    "eeuu.drop(columns = [\"country\"],axis=1,inplace= True)"
   ]
  },
  {
   "cell_type": "code",
   "execution_count": 15,
   "id": "28690824",
   "metadata": {
    "scrolled": true
   },
   "outputs": [
    {
     "data": {
      "text/html": [
       "<div>\n",
       "<style scoped>\n",
       "    .dataframe tbody tr th:only-of-type {\n",
       "        vertical-align: middle;\n",
       "    }\n",
       "\n",
       "    .dataframe tbody tr th {\n",
       "        vertical-align: top;\n",
       "    }\n",
       "\n",
       "    .dataframe thead th {\n",
       "        text-align: right;\n",
       "    }\n",
       "</style>\n",
       "<table border=\"1\" class=\"dataframe\">\n",
       "  <thead>\n",
       "    <tr style=\"text-align: right;\">\n",
       "      <th></th>\n",
       "      <th>date</th>\n",
       "      <th>Increase in Residential Stay</th>\n",
       "    </tr>\n",
       "  </thead>\n",
       "  <tbody>\n",
       "    <tr>\n",
       "      <th>86935</th>\n",
       "      <td>2020-02-17</td>\n",
       "      <td>1.000</td>\n",
       "    </tr>\n",
       "    <tr>\n",
       "      <th>86936</th>\n",
       "      <td>2020-02-18</td>\n",
       "      <td>1.000</td>\n",
       "    </tr>\n",
       "    <tr>\n",
       "      <th>86937</th>\n",
       "      <td>2020-02-19</td>\n",
       "      <td>0.800</td>\n",
       "    </tr>\n",
       "    <tr>\n",
       "      <th>86938</th>\n",
       "      <td>2020-02-20</td>\n",
       "      <td>0.833</td>\n",
       "    </tr>\n",
       "    <tr>\n",
       "      <th>86939</th>\n",
       "      <td>2020-02-21</td>\n",
       "      <td>0.714</td>\n",
       "    </tr>\n",
       "  </tbody>\n",
       "</table>\n",
       "</div>"
      ],
      "text/plain": [
       "            date  Increase in Residential Stay\n",
       "86935 2020-02-17                         1.000\n",
       "86936 2020-02-18                         1.000\n",
       "86937 2020-02-19                         0.800\n",
       "86938 2020-02-20                         0.833\n",
       "86939 2020-02-21                         0.714"
      ]
     },
     "execution_count": 15,
     "metadata": {},
     "output_type": "execute_result"
    }
   ],
   "source": [
    "eeuu.head(5)"
   ]
  },
  {
   "cell_type": "markdown",
   "id": "0255f6d7",
   "metadata": {},
   "source": [
    "## Scrapeo"
   ]
  },
  {
   "cell_type": "code",
   "execution_count": 16,
   "id": "8c74ad6b",
   "metadata": {},
   "outputs": [],
   "source": [
    "dict_tablas={}\n",
    "dict_df={}\n",
    "for e in [\"NFLX\",\"DIS\",\"AMC\"]:\n",
    "    dict_tablas[e] = yahoo_finance(e, 771, 3, 1, \"history\")    \n",
    "    dict_df[e]=pd.DataFrame([i.split(\" \") for i in dict_tablas[e].split(\"\\n\")]\n",
    "                            ,columns=[\"month\",\"day\",\"year\", f\"open_{e}\", f\"high_{e}\", f\"low_{e}\", f\"close_{e}\", f\"adj_close_{e}\", f\"volume_{e}\"])"
   ]
  },
  {
   "cell_type": "code",
   "execution_count": 17,
   "id": "81245683",
   "metadata": {},
   "outputs": [],
   "source": [
    "for e in list(dict_df.keys()):\n",
    "    dict_df[e]['date'] = dict_df[e][\"year\"]+\" \"+dict_df[e][\"month\"]+\" \"+dict_df[e][\"day\"]\n",
    "    dict_df[e]['date'] = dict_df[e]['date'].apply(lambda x : x.rstrip(\",\"))\n",
    "    dict_df[e]['date'] = pd.to_datetime(dict_df[e]['date'], format='%Y %b %d')\n",
    "    dict_df[e].drop(columns = [\"year\",\"month\",\"day\",f\"open_{e}\", f\"high_{e}\", f\"low_{e}\", f\"adj_close_{e}\", f\"volume_{e}\" ]\n",
    "                    ,axis=1,inplace= True)\n",
    "    dict_df[e] = dict_df[e].iloc[:,[1,0]]\n"
   ]
  },
  {
   "cell_type": "code",
   "execution_count": 18,
   "id": "6646975d",
   "metadata": {},
   "outputs": [
    {
     "data": {
      "text/html": [
       "<div>\n",
       "<style scoped>\n",
       "    .dataframe tbody tr th:only-of-type {\n",
       "        vertical-align: middle;\n",
       "    }\n",
       "\n",
       "    .dataframe tbody tr th {\n",
       "        vertical-align: top;\n",
       "    }\n",
       "\n",
       "    .dataframe thead th {\n",
       "        text-align: right;\n",
       "    }\n",
       "</style>\n",
       "<table border=\"1\" class=\"dataframe\">\n",
       "  <thead>\n",
       "    <tr style=\"text-align: right;\">\n",
       "      <th></th>\n",
       "      <th>date</th>\n",
       "      <th>close_NFLX</th>\n",
       "    </tr>\n",
       "  </thead>\n",
       "  <tbody>\n",
       "    <tr>\n",
       "      <th>156</th>\n",
       "      <td>2021-06-24</td>\n",
       "      <td>518.06</td>\n",
       "    </tr>\n",
       "    <tr>\n",
       "      <th>45</th>\n",
       "      <td>2021-12-01</td>\n",
       "      <td>617.77</td>\n",
       "    </tr>\n",
       "    <tr>\n",
       "      <th>263</th>\n",
       "      <td>2021-01-21</td>\n",
       "      <td>579.84</td>\n",
       "    </tr>\n",
       "    <tr>\n",
       "      <th>465</th>\n",
       "      <td>2020-04-02</td>\n",
       "      <td>370.08</td>\n",
       "    </tr>\n",
       "    <tr>\n",
       "      <th>70</th>\n",
       "      <td>2021-10-26</td>\n",
       "      <td>668.52</td>\n",
       "    </tr>\n",
       "  </tbody>\n",
       "</table>\n",
       "</div>"
      ],
      "text/plain": [
       "          date close_NFLX\n",
       "156 2021-06-24     518.06\n",
       "45  2021-12-01     617.77\n",
       "263 2021-01-21     579.84\n",
       "465 2020-04-02     370.08\n",
       "70  2021-10-26     668.52"
      ]
     },
     "execution_count": 18,
     "metadata": {},
     "output_type": "execute_result"
    }
   ],
   "source": [
    "dict_df[\"NFLX\"].sample(5)"
   ]
  },
  {
   "cell_type": "code",
   "execution_count": 19,
   "id": "9d38a0d9",
   "metadata": {},
   "outputs": [],
   "source": [
    "tabla = eeuu.merge(dict_df[\"NFLX\"], left_on='date', right_on='date').merge(dict_df[\"DIS\"], left_on='date', right_on='date').merge(dict_df[\"AMC\"], left_on='date', right_on='date')"
   ]
  },
  {
   "cell_type": "code",
   "execution_count": 20,
   "id": "c8273365",
   "metadata": {},
   "outputs": [],
   "source": [
    "tabla.to_csv(\"data/eeuu.csv\",index=False)"
   ]
  },
  {
   "cell_type": "code",
   "execution_count": 21,
   "id": "6ba61234",
   "metadata": {},
   "outputs": [
    {
     "data": {
      "text/html": [
       "<div>\n",
       "<style scoped>\n",
       "    .dataframe tbody tr th:only-of-type {\n",
       "        vertical-align: middle;\n",
       "    }\n",
       "\n",
       "    .dataframe tbody tr th {\n",
       "        vertical-align: top;\n",
       "    }\n",
       "\n",
       "    .dataframe thead th {\n",
       "        text-align: right;\n",
       "    }\n",
       "</style>\n",
       "<table border=\"1\" class=\"dataframe\">\n",
       "  <thead>\n",
       "    <tr style=\"text-align: right;\">\n",
       "      <th></th>\n",
       "      <th>date</th>\n",
       "      <th>Increase in Residential Stay</th>\n",
       "      <th>close_NFLX</th>\n",
       "      <th>close_DIS</th>\n",
       "      <th>close_AMC</th>\n",
       "    </tr>\n",
       "  </thead>\n",
       "  <tbody>\n",
       "    <tr>\n",
       "      <th>348</th>\n",
       "      <td>2021-07-02</td>\n",
       "      <td>4.000</td>\n",
       "      <td>533.98</td>\n",
       "      <td>177.11</td>\n",
       "      <td>51.96</td>\n",
       "    </tr>\n",
       "    <tr>\n",
       "      <th>319</th>\n",
       "      <td>2021-05-21</td>\n",
       "      <td>4.714</td>\n",
       "      <td>497.89</td>\n",
       "      <td>172.40</td>\n",
       "      <td>12.08</td>\n",
       "    </tr>\n",
       "    <tr>\n",
       "      <th>18</th>\n",
       "      <td>2020-03-12</td>\n",
       "      <td>-0.143</td>\n",
       "      <td>315.25</td>\n",
       "      <td>91.81</td>\n",
       "      <td>2.91</td>\n",
       "    </tr>\n",
       "    <tr>\n",
       "      <th>222</th>\n",
       "      <td>2020-12-31</td>\n",
       "      <td>14.286</td>\n",
       "      <td>540.73</td>\n",
       "      <td>181.18</td>\n",
       "      <td>2.12</td>\n",
       "    </tr>\n",
       "    <tr>\n",
       "      <th>437</th>\n",
       "      <td>2021-11-08</td>\n",
       "      <td>4.429</td>\n",
       "      <td>651.45</td>\n",
       "      <td>176.87</td>\n",
       "      <td>45.06</td>\n",
       "    </tr>\n",
       "  </tbody>\n",
       "</table>\n",
       "</div>"
      ],
      "text/plain": [
       "          date  Increase in Residential Stay close_NFLX close_DIS close_AMC\n",
       "348 2021-07-02                         4.000     533.98    177.11     51.96\n",
       "319 2021-05-21                         4.714     497.89    172.40     12.08\n",
       "18  2020-03-12                        -0.143     315.25     91.81      2.91\n",
       "222 2020-12-31                        14.286     540.73    181.18      2.12\n",
       "437 2021-11-08                         4.429     651.45    176.87     45.06"
      ]
     },
     "execution_count": 21,
     "metadata": {},
     "output_type": "execute_result"
    }
   ],
   "source": [
    "tabla.sample(5)"
   ]
  },
  {
   "cell_type": "markdown",
   "id": "6e9db560",
   "metadata": {},
   "source": [
    "## Api"
   ]
  },
  {
   "cell_type": "code",
   "execution_count": 2,
   "id": "1a5e1077",
   "metadata": {},
   "outputs": [
    {
     "data": {
      "text/plain": [
       "[('2022-02-03', 1.9), ('2022-02-04', -3.1), ('2022-02-05', -6.9)]"
      ]
     },
     "execution_count": 2,
     "metadata": {},
     "output_type": "execute_result"
    }
   ],
   "source": [
    "start_date=date(2022, 2, 3)\n",
    "end_date=date(2022, 2, 5)\n",
    "\n",
    "daterange = pd.date_range(start_date, end_date)\n",
    "datos_tiempo=[]\n",
    "\n",
    "for single_date in daterange:\n",
    "    url=f'http://api.weatherapi.com/v1/history.json?key=40e98f4fcb06417bbe1182003220702&q=New-York&dt={single_date}'\n",
    "    datos_tiempo.append((req.get(url).json()[\"forecast\"][\"forecastday\"][0][\"date\"],req.get(url).json()[\"forecast\"][\"forecastday\"][0][\"day\"][\"avgtemp_c\"]))\n",
    "datos_tiempo"
   ]
  },
  {
   "cell_type": "code",
   "execution_count": null,
   "id": "1cdcb8d9",
   "metadata": {},
   "outputs": [],
   "source": []
  }
 ],
 "metadata": {
  "kernelspec": {
   "display_name": "ironhack",
   "language": "python",
   "name": "ironhack"
  },
  "language_info": {
   "codemirror_mode": {
    "name": "ipython",
    "version": 3
   },
   "file_extension": ".py",
   "mimetype": "text/x-python",
   "name": "python",
   "nbconvert_exporter": "python",
   "pygments_lexer": "ipython3",
   "version": "3.8.10"
  }
 },
 "nbformat": 4,
 "nbformat_minor": 5
}
