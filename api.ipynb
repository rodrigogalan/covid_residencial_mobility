{
 "cells": [
  {
   "cell_type": "code",
   "execution_count": 6,
   "id": "4e0fc26e",
   "metadata": {},
   "outputs": [],
   "source": [
    "import requests as req\n",
    "import pandas as pd\n",
    "from datetime import date"
   ]
  },
  {
   "cell_type": "code",
   "execution_count": 8,
   "id": "a55ac7ce",
   "metadata": {},
   "outputs": [
    {
     "data": {
      "text/plain": [
       "[('2022-02-03', 1.9), ('2022-02-04', -3.1), ('2022-02-05', -6.9)]"
      ]
     },
     "execution_count": 8,
     "metadata": {},
     "output_type": "execute_result"
    }
   ],
   "source": [
    "start_date=date(2022, 2, 3)\n",
    "end_date=date(2022, 2, 5)\n",
    "\n",
    "daterange = pd.date_range(start_date, end_date)\n",
    "datos_tiempo=[]\n",
    "\n",
    "for single_date in daterange:\n",
    "    url=f'http://api.weatherapi.com/v1/history.json?key=40e98f4fcb06417bbe1182003220702&q=New-York&dt={single_date}'\n",
    "    datos_tiempo.append((req.get(url).json()[\"forecast\"][\"forecastday\"][0][\"date\"],req.get(url).json()[\"forecast\"][\"forecastday\"][0][\"day\"][\"avgtemp_c\"]))\n",
    "datos_tiempo"
   ]
  },
  {
   "cell_type": "code",
   "execution_count": null,
   "id": "54a27ce7",
   "metadata": {},
   "outputs": [],
   "source": []
  },
  {
   "cell_type": "code",
   "execution_count": null,
   "id": "c807faed",
   "metadata": {},
   "outputs": [],
   "source": []
  }
 ],
 "metadata": {
  "kernelspec": {
   "display_name": "ironhack",
   "language": "python",
   "name": "ironhack"
  },
  "language_info": {
   "codemirror_mode": {
    "name": "ipython",
    "version": 3
   },
   "file_extension": ".py",
   "mimetype": "text/x-python",
   "name": "python",
   "nbconvert_exporter": "python",
   "pygments_lexer": "ipython3",
   "version": "3.8.10"
  }
 },
 "nbformat": 4,
 "nbformat_minor": 5
}
